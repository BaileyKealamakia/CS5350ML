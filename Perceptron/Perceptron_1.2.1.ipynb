{
 "cells": [
  {
   "cell_type": "code",
   "execution_count": 1,
   "id": "initial_id",
   "metadata": {
    "collapsed": true,
    "ExecuteTime": {
     "end_time": "2023-11-07T04:15:49.755435500Z",
     "start_time": "2023-11-07T04:15:49.751594900Z"
    }
   },
   "outputs": [],
   "source": [
    "# imports\n",
    "import pandas as pd\n",
    "import numpy as np"
   ]
  },
  {
   "cell_type": "code",
   "execution_count": 2,
   "outputs": [
    {
     "data": {
      "text/plain": "     variance  skewness  curtosis  entropy  label\n0    3.848100  10.15390  -3.85610 -4.22280      0\n1    4.004700   0.45937   1.36210  1.61810      0\n2   -0.048008  -1.60370   8.47560  0.75558      0\n3   -1.266700   2.81830  -2.42600 -1.88620      1\n4    2.203400   5.99470   0.53009  0.84998      0\n..        ...       ...       ...      ...    ...\n867  0.273310   4.87730  -4.91940 -5.81980      1\n868  1.063700   3.69570  -4.15940 -1.93790      1\n869 -1.242400  -1.71750  -0.52553 -0.21036      1\n870  1.837300   6.12920   0.84027  0.55257      0\n871 -2.014900   3.68740  -1.93850 -3.89180      1\n\n[872 rows x 5 columns]",
      "text/html": "<div>\n<style scoped>\n    .dataframe tbody tr th:only-of-type {\n        vertical-align: middle;\n    }\n\n    .dataframe tbody tr th {\n        vertical-align: top;\n    }\n\n    .dataframe thead th {\n        text-align: right;\n    }\n</style>\n<table border=\"1\" class=\"dataframe\">\n  <thead>\n    <tr style=\"text-align: right;\">\n      <th></th>\n      <th>variance</th>\n      <th>skewness</th>\n      <th>curtosis</th>\n      <th>entropy</th>\n      <th>label</th>\n    </tr>\n  </thead>\n  <tbody>\n    <tr>\n      <th>0</th>\n      <td>3.848100</td>\n      <td>10.15390</td>\n      <td>-3.85610</td>\n      <td>-4.22280</td>\n      <td>0</td>\n    </tr>\n    <tr>\n      <th>1</th>\n      <td>4.004700</td>\n      <td>0.45937</td>\n      <td>1.36210</td>\n      <td>1.61810</td>\n      <td>0</td>\n    </tr>\n    <tr>\n      <th>2</th>\n      <td>-0.048008</td>\n      <td>-1.60370</td>\n      <td>8.47560</td>\n      <td>0.75558</td>\n      <td>0</td>\n    </tr>\n    <tr>\n      <th>3</th>\n      <td>-1.266700</td>\n      <td>2.81830</td>\n      <td>-2.42600</td>\n      <td>-1.88620</td>\n      <td>1</td>\n    </tr>\n    <tr>\n      <th>4</th>\n      <td>2.203400</td>\n      <td>5.99470</td>\n      <td>0.53009</td>\n      <td>0.84998</td>\n      <td>0</td>\n    </tr>\n    <tr>\n      <th>...</th>\n      <td>...</td>\n      <td>...</td>\n      <td>...</td>\n      <td>...</td>\n      <td>...</td>\n    </tr>\n    <tr>\n      <th>867</th>\n      <td>0.273310</td>\n      <td>4.87730</td>\n      <td>-4.91940</td>\n      <td>-5.81980</td>\n      <td>1</td>\n    </tr>\n    <tr>\n      <th>868</th>\n      <td>1.063700</td>\n      <td>3.69570</td>\n      <td>-4.15940</td>\n      <td>-1.93790</td>\n      <td>1</td>\n    </tr>\n    <tr>\n      <th>869</th>\n      <td>-1.242400</td>\n      <td>-1.71750</td>\n      <td>-0.52553</td>\n      <td>-0.21036</td>\n      <td>1</td>\n    </tr>\n    <tr>\n      <th>870</th>\n      <td>1.837300</td>\n      <td>6.12920</td>\n      <td>0.84027</td>\n      <td>0.55257</td>\n      <td>0</td>\n    </tr>\n    <tr>\n      <th>871</th>\n      <td>-2.014900</td>\n      <td>3.68740</td>\n      <td>-1.93850</td>\n      <td>-3.89180</td>\n      <td>1</td>\n    </tr>\n  </tbody>\n</table>\n<p>872 rows × 5 columns</p>\n</div>"
     },
     "execution_count": 2,
     "metadata": {},
     "output_type": "execute_result"
    }
   ],
   "source": [
    "# loading in the data\n",
    "\n",
    "columns = [\n",
    "    'variance',\n",
    "    'skewness',\n",
    "    'curtosis',\n",
    "    'entropy',\n",
    "    'label'\n",
    "]\n",
    "\n",
    "train_data = pd.read_csv('bank-note/train.csv', names=columns,header=None)\n",
    "test_data = pd.read_csv('bank-note/test.csv', names=columns, header=None)\n",
    "\n",
    "train_data"
   ],
   "metadata": {
    "collapsed": false,
    "ExecuteTime": {
     "end_time": "2023-11-07T04:15:49.789545100Z",
     "start_time": "2023-11-07T04:15:49.759434900Z"
    }
   },
   "id": "3309ab2289a76cf8"
  },
  {
   "cell_type": "code",
   "execution_count": 3,
   "outputs": [],
   "source": [
    "# need to change the labels from [-1,1]\n",
    "train_data.iloc[:, -1].replace(0, -1, inplace=True)\n",
    "test_data.iloc[:, -1].replace(0, -1, inplace=True)\n",
    "\n",
    "# Update the labels in your numpy arrays as well\n",
    "#train_labels = train_data.iloc[:, -1].values\n",
    "#test_labels = test_data.iloc[:, -1].values"
   ],
   "metadata": {
    "collapsed": false,
    "ExecuteTime": {
     "end_time": "2023-11-07T04:15:50.680101900Z",
     "start_time": "2023-11-07T04:15:50.663570500Z"
    }
   },
   "id": "63cef42432361f0a"
  },
  {
   "cell_type": "code",
   "execution_count": 4,
   "outputs": [],
   "source": [
    "# now need to split the data to features (columns) and labels (prediction)\n",
    "\n",
    "x_train = train_data.drop('label', axis=1).values\n",
    "y_train = train_data['label'].values\n",
    "\n",
    "x_test = test_data.drop('label', axis=1).values\n",
    "y_test = test_data['label'].values\n"
   ],
   "metadata": {
    "collapsed": false,
    "ExecuteTime": {
     "end_time": "2023-11-07T04:15:51.590853200Z",
     "start_time": "2023-11-07T04:15:51.576145100Z"
    }
   },
   "id": "7d746dfddd47060f"
  },
  {
   "cell_type": "code",
   "execution_count": 5,
   "outputs": [
    {
     "data": {
      "text/plain": "array([-1, -1, -1,  1, -1, -1, -1, -1, -1, -1,  1,  1, -1,  1,  1,  1, -1,\n       -1,  1,  1,  1,  1,  1, -1, -1,  1, -1, -1, -1, -1, -1, -1,  1,  1,\n       -1, -1,  1,  1, -1, -1,  1, -1, -1,  1,  1,  1,  1,  1, -1, -1, -1,\n        1,  1,  1, -1, -1,  1, -1,  1,  1,  1, -1,  1, -1, -1, -1,  1, -1,\n       -1,  1, -1, -1,  1, -1,  1, -1,  1,  1, -1,  1,  1, -1, -1, -1, -1,\n        1,  1,  1,  1,  1,  1,  1,  1,  1,  1,  1,  1,  1, -1, -1, -1, -1,\n       -1, -1, -1,  1,  1,  1,  1, -1, -1,  1,  1, -1, -1,  1, -1, -1,  1,\n        1,  1,  1, -1, -1,  1, -1,  1, -1, -1,  1,  1, -1,  1, -1,  1, -1,\n        1,  1, -1, -1, -1,  1,  1, -1, -1,  1, -1, -1,  1,  1,  1, -1, -1,\n        1, -1, -1, -1, -1, -1, -1, -1, -1, -1, -1,  1,  1, -1, -1, -1,  1,\n       -1, -1,  1, -1,  1, -1, -1,  1, -1,  1, -1,  1, -1,  1, -1,  1,  1,\n        1, -1,  1, -1, -1, -1, -1,  1, -1, -1, -1, -1,  1, -1, -1,  1,  1,\n        1, -1,  1,  1, -1,  1,  1,  1,  1,  1, -1, -1,  1, -1,  1,  1, -1,\n        1, -1,  1, -1, -1, -1,  1, -1, -1, -1, -1, -1,  1, -1,  1, -1,  1,\n        1,  1, -1, -1, -1, -1, -1,  1,  1,  1,  1,  1,  1, -1,  1, -1,  1,\n       -1, -1,  1, -1, -1,  1, -1, -1,  1,  1,  1,  1, -1, -1, -1, -1,  1,\n        1, -1,  1,  1,  1,  1, -1,  1,  1,  1,  1, -1,  1,  1,  1,  1, -1,\n        1, -1,  1,  1,  1,  1,  1,  1, -1,  1,  1,  1, -1, -1,  1,  1,  1,\n        1,  1, -1, -1, -1, -1, -1, -1,  1, -1,  1, -1, -1, -1, -1,  1, -1,\n       -1, -1, -1,  1,  1,  1, -1, -1, -1,  1, -1, -1,  1,  1, -1, -1, -1,\n        1, -1, -1,  1,  1, -1, -1, -1, -1, -1, -1, -1,  1,  1, -1,  1,  1,\n       -1, -1, -1,  1, -1,  1, -1, -1, -1, -1, -1,  1,  1, -1, -1, -1, -1,\n       -1, -1, -1, -1, -1,  1, -1, -1,  1,  1, -1,  1,  1, -1, -1, -1, -1,\n       -1, -1,  1, -1, -1,  1, -1, -1,  1, -1,  1,  1,  1, -1,  1,  1, -1,\n        1, -1, -1, -1,  1,  1, -1,  1, -1,  1, -1,  1,  1, -1,  1,  1, -1,\n        1, -1,  1, -1,  1, -1, -1, -1,  1,  1,  1,  1,  1, -1, -1,  1, -1,\n       -1, -1,  1, -1, -1,  1, -1, -1, -1, -1,  1,  1,  1,  1,  1,  1, -1,\n       -1,  1,  1, -1,  1, -1, -1, -1, -1, -1,  1,  1, -1, -1,  1,  1, -1,\n       -1,  1, -1, -1,  1,  1, -1,  1,  1, -1, -1, -1,  1, -1, -1,  1, -1,\n        1, -1, -1,  1,  1,  1,  1, -1,  1,  1,  1,  1, -1,  1, -1, -1,  1,\n       -1, -1,  1, -1, -1,  1, -1, -1, -1, -1,  1, -1,  1, -1,  1,  1, -1,\n       -1, -1,  1, -1, -1,  1, -1, -1, -1, -1, -1,  1,  1,  1,  1,  1,  1,\n        1, -1, -1, -1, -1, -1,  1, -1,  1, -1, -1,  1, -1, -1,  1, -1, -1,\n       -1,  1,  1,  1, -1, -1, -1,  1,  1,  1,  1, -1,  1,  1,  1, -1, -1,\n       -1, -1, -1, -1, -1, -1, -1, -1, -1, -1, -1, -1,  1,  1, -1, -1, -1,\n        1,  1, -1, -1, -1,  1,  1,  1, -1, -1,  1, -1,  1, -1, -1, -1, -1,\n       -1,  1, -1, -1,  1, -1,  1, -1, -1, -1, -1,  1, -1, -1, -1, -1,  1,\n       -1, -1, -1, -1,  1, -1,  1,  1,  1,  1, -1,  1,  1, -1, -1,  1,  1,\n        1,  1, -1, -1, -1, -1,  1, -1,  1,  1,  1,  1, -1,  1, -1, -1, -1,\n        1,  1, -1,  1, -1, -1, -1, -1, -1, -1,  1, -1,  1,  1, -1, -1, -1,\n       -1, -1,  1, -1,  1, -1,  1,  1,  1, -1, -1, -1,  1,  1,  1,  1,  1,\n       -1,  1, -1,  1, -1,  1, -1,  1, -1,  1,  1, -1, -1,  1, -1,  1, -1,\n        1, -1, -1,  1,  1,  1, -1, -1, -1,  1,  1, -1, -1,  1, -1, -1, -1,\n        1,  1, -1, -1, -1,  1, -1,  1, -1, -1, -1, -1,  1,  1,  1, -1,  1,\n       -1,  1,  1,  1,  1, -1, -1, -1, -1, -1,  1, -1, -1, -1,  1, -1, -1,\n        1, -1,  1, -1, -1, -1,  1,  1,  1, -1, -1,  1, -1, -1,  1,  1,  1,\n        1, -1, -1, -1, -1, -1, -1, -1,  1,  1,  1, -1, -1,  1,  1,  1,  1,\n       -1, -1, -1, -1, -1,  1, -1, -1, -1, -1, -1, -1, -1,  1, -1, -1, -1,\n       -1,  1,  1, -1,  1,  1, -1,  1,  1, -1, -1, -1, -1,  1,  1, -1,  1,\n        1, -1,  1, -1,  1, -1, -1,  1, -1, -1, -1, -1, -1,  1, -1, -1, -1,\n       -1, -1, -1,  1,  1,  1, -1, -1, -1,  1, -1, -1, -1,  1,  1,  1, -1,\n        1,  1,  1, -1,  1], dtype=int64)"
     },
     "execution_count": 5,
     "metadata": {},
     "output_type": "execute_result"
    }
   ],
   "source": [
    "\n",
    "y_train"
   ],
   "metadata": {
    "collapsed": false,
    "ExecuteTime": {
     "end_time": "2023-11-07T04:15:52.297219100Z",
     "start_time": "2023-11-07T04:15:52.279254500Z"
    }
   },
   "id": "d2248751ff6dbc66"
  },
  {
   "cell_type": "markdown",
   "source": [
    "# 2A"
   ],
   "metadata": {
    "collapsed": false
   },
   "id": "50509b5a979aaa81"
  },
  {
   "cell_type": "code",
   "execution_count": 11,
   "outputs": [],
   "source": [
    "#making a zero weight vector with the number of features\n",
    "weights = np.zeros(x_train.shape[1])\n",
    "\n",
    "bias = 0.0"
   ],
   "metadata": {
    "collapsed": false,
    "ExecuteTime": {
     "end_time": "2023-11-07T04:20:28.135595900Z",
     "start_time": "2023-11-07T04:20:28.107637600Z"
    }
   },
   "id": "2341331fb25aceae"
  },
  {
   "cell_type": "code",
   "execution_count": 12,
   "outputs": [
    {
     "data": {
      "text/plain": "array([-61.086591, -42.70582 , -40.30786 ,  -3.146269])"
     },
     "execution_count": 12,
     "metadata": {},
     "output_type": "execute_result"
    }
   ],
   "source": [
    "# standard Perceptron most basic single layered nerual network\n",
    "epochs = 10\n",
    "#def Perceptron(epochs, x, y)\n",
    "for epoch in range(epochs):\n",
    "    #now loop through each training  example\n",
    "    #use zip to process two examples at once\n",
    "    for feature, label in zip(x_train, y_train):\n",
    "        #predict\n",
    "        predict = np.dot(weights, feature) + bias\n",
    "        label_predict = np.sign(predict)\n",
    "        #now see if it is correct, and update if false\n",
    "        \n",
    "        if label != label_predict:\n",
    "            #now update it\n",
    "            #CHECK IF RIGHT\n",
    "            weights += (label*feature)\n",
    "            bias += label\n",
    "        \n",
    "weights       \n",
    "#bias"
   ],
   "metadata": {
    "collapsed": false,
    "ExecuteTime": {
     "end_time": "2023-11-07T04:20:28.688405100Z",
     "start_time": "2023-11-07T04:20:28.657007100Z"
    }
   },
   "id": "2a7e4dd273ee4849"
  },
  {
   "cell_type": "code",
   "execution_count": 13,
   "outputs": [
    {
     "data": {
      "text/plain": "0.04"
     },
     "execution_count": 13,
     "metadata": {},
     "output_type": "execute_result"
    }
   ],
   "source": [
    "#Now testing perceptron algoirthm\n",
    "\n",
    "total_err = 0.0\n",
    "for feature, label in zip(x_test, y_test):\n",
    "    predict = np.dot(weights, feature) + bias\n",
    "    label_predict = np.sign(predict)\n",
    "    \n",
    "    err = abs(label_predict - label)\n",
    "    total_err += err\n",
    "    \n",
    "    \n",
    "average_predict_error = total_err / len(x_test)\n",
    "\n",
    "average_predict_error"
   ],
   "metadata": {
    "collapsed": false,
    "ExecuteTime": {
     "end_time": "2023-11-07T04:20:30.365281900Z",
     "start_time": "2023-11-07T04:20:30.341449Z"
    }
   },
   "id": "9ca2b5516259aa6f"
  },
  {
   "cell_type": "code",
   "execution_count": 21,
   "outputs": [
    {
     "name": "stdout",
     "output_type": "stream",
     "text": [
      "Weights (Standard): [-61.086591 -42.70582  -40.30786   -3.146269]\n",
      "Average Prediction Error (Standard): 0.04\n"
     ]
    }
   ],
   "source": [
    "print(f'Weights (Standard): {weights}')\n",
    "print(f'Average Prediction Error (Standard): {average_predict_error}')"
   ],
   "metadata": {
    "collapsed": false,
    "ExecuteTime": {
     "end_time": "2023-11-01T23:32:20.265376700Z",
     "start_time": "2023-11-01T23:32:19.944045400Z"
    }
   },
   "id": "597c55e07cc9a05d"
  },
  {
   "cell_type": "code",
   "execution_count": 14,
   "outputs": [
    {
     "name": "stdout",
     "output_type": "stream",
     "text": [
      "53.0\n"
     ]
    }
   ],
   "source": [
    "print(bias)"
   ],
   "metadata": {
    "collapsed": false,
    "ExecuteTime": {
     "end_time": "2023-11-07T04:21:30.329019300Z",
     "start_time": "2023-11-07T04:21:30.288266800Z"
    }
   },
   "id": "7436142ef9979a9b"
  },
  {
   "cell_type": "markdown",
   "source": [
    "# 2b"
   ],
   "metadata": {
    "collapsed": false
   },
   "id": "7ee745f9f6ec527e"
  },
  {
   "cell_type": "code",
   "execution_count": 15,
   "outputs": [
    {
     "data": {
      "text/plain": "array([-1, -1, -1,  1, -1, -1, -1, -1, -1, -1,  1,  1, -1,  1,  1,  1, -1,\n       -1,  1,  1,  1,  1,  1, -1, -1,  1, -1, -1, -1, -1, -1, -1,  1,  1,\n       -1, -1,  1,  1, -1, -1,  1, -1, -1,  1,  1,  1,  1,  1, -1, -1, -1,\n        1,  1,  1, -1, -1,  1, -1,  1,  1,  1, -1,  1, -1, -1, -1,  1, -1,\n       -1,  1, -1, -1,  1, -1,  1, -1,  1,  1, -1,  1,  1, -1, -1, -1, -1,\n        1,  1,  1,  1,  1,  1,  1,  1,  1,  1,  1,  1,  1, -1, -1, -1, -1,\n       -1, -1, -1,  1,  1,  1,  1, -1, -1,  1,  1, -1, -1,  1, -1, -1,  1,\n        1,  1,  1, -1, -1,  1, -1,  1, -1, -1,  1,  1, -1,  1, -1,  1, -1,\n        1,  1, -1, -1, -1,  1,  1, -1, -1,  1, -1, -1,  1,  1,  1, -1, -1,\n        1, -1, -1, -1, -1, -1, -1, -1, -1, -1, -1,  1,  1, -1, -1, -1,  1,\n       -1, -1,  1, -1,  1, -1, -1,  1, -1,  1, -1,  1, -1,  1, -1,  1,  1,\n        1, -1,  1, -1, -1, -1, -1,  1, -1, -1, -1, -1,  1, -1, -1,  1,  1,\n        1, -1,  1,  1, -1,  1,  1,  1,  1,  1, -1, -1,  1, -1,  1,  1, -1,\n        1, -1,  1, -1, -1, -1,  1, -1, -1, -1, -1, -1,  1, -1,  1, -1,  1,\n        1,  1, -1, -1, -1, -1, -1,  1,  1,  1,  1,  1,  1, -1,  1, -1,  1,\n       -1, -1,  1, -1, -1,  1, -1, -1,  1,  1,  1,  1, -1, -1, -1, -1,  1,\n        1, -1,  1,  1,  1,  1, -1,  1,  1,  1,  1, -1,  1,  1,  1,  1, -1,\n        1, -1,  1,  1,  1,  1,  1,  1, -1,  1,  1,  1, -1, -1,  1,  1,  1,\n        1,  1, -1, -1, -1, -1, -1, -1,  1, -1,  1, -1, -1, -1, -1,  1, -1,\n       -1, -1, -1,  1,  1,  1, -1, -1, -1,  1, -1, -1,  1,  1, -1, -1, -1,\n        1, -1, -1,  1,  1, -1, -1, -1, -1, -1, -1, -1,  1,  1, -1,  1,  1,\n       -1, -1, -1,  1, -1,  1, -1, -1, -1, -1, -1,  1,  1, -1, -1, -1, -1,\n       -1, -1, -1, -1, -1,  1, -1, -1,  1,  1, -1,  1,  1, -1, -1, -1, -1,\n       -1, -1,  1, -1, -1,  1, -1, -1,  1, -1,  1,  1,  1, -1,  1,  1, -1,\n        1, -1, -1, -1,  1,  1, -1,  1, -1,  1, -1,  1,  1, -1,  1,  1, -1,\n        1, -1,  1, -1,  1, -1, -1, -1,  1,  1,  1,  1,  1, -1, -1,  1, -1,\n       -1, -1,  1, -1, -1,  1, -1, -1, -1, -1,  1,  1,  1,  1,  1,  1, -1,\n       -1,  1,  1, -1,  1, -1, -1, -1, -1, -1,  1,  1, -1, -1,  1,  1, -1,\n       -1,  1, -1, -1,  1,  1, -1,  1,  1, -1, -1, -1,  1, -1, -1,  1, -1,\n        1, -1, -1,  1,  1,  1,  1, -1,  1,  1,  1,  1, -1,  1, -1, -1,  1,\n       -1, -1,  1, -1, -1,  1, -1, -1, -1, -1,  1, -1,  1, -1,  1,  1, -1,\n       -1, -1,  1, -1, -1,  1, -1, -1, -1, -1, -1,  1,  1,  1,  1,  1,  1,\n        1, -1, -1, -1, -1, -1,  1, -1,  1, -1, -1,  1, -1, -1,  1, -1, -1,\n       -1,  1,  1,  1, -1, -1, -1,  1,  1,  1,  1, -1,  1,  1,  1, -1, -1,\n       -1, -1, -1, -1, -1, -1, -1, -1, -1, -1, -1, -1,  1,  1, -1, -1, -1,\n        1,  1, -1, -1, -1,  1,  1,  1, -1, -1,  1, -1,  1, -1, -1, -1, -1,\n       -1,  1, -1, -1,  1, -1,  1, -1, -1, -1, -1,  1, -1, -1, -1, -1,  1,\n       -1, -1, -1, -1,  1, -1,  1,  1,  1,  1, -1,  1,  1, -1, -1,  1,  1,\n        1,  1, -1, -1, -1, -1,  1, -1,  1,  1,  1,  1, -1,  1, -1, -1, -1,\n        1,  1, -1,  1, -1, -1, -1, -1, -1, -1,  1, -1,  1,  1, -1, -1, -1,\n       -1, -1,  1, -1,  1, -1,  1,  1,  1, -1, -1, -1,  1,  1,  1,  1,  1,\n       -1,  1, -1,  1, -1,  1, -1,  1, -1,  1,  1, -1, -1,  1, -1,  1, -1,\n        1, -1, -1,  1,  1,  1, -1, -1, -1,  1,  1, -1, -1,  1, -1, -1, -1,\n        1,  1, -1, -1, -1,  1, -1,  1, -1, -1, -1, -1,  1,  1,  1, -1,  1,\n       -1,  1,  1,  1,  1, -1, -1, -1, -1, -1,  1, -1, -1, -1,  1, -1, -1,\n        1, -1,  1, -1, -1, -1,  1,  1,  1, -1, -1,  1, -1, -1,  1,  1,  1,\n        1, -1, -1, -1, -1, -1, -1, -1,  1,  1,  1, -1, -1,  1,  1,  1,  1,\n       -1, -1, -1, -1, -1,  1, -1, -1, -1, -1, -1, -1, -1,  1, -1, -1, -1,\n       -1,  1,  1, -1,  1,  1, -1,  1,  1, -1, -1, -1, -1,  1,  1, -1,  1,\n        1, -1,  1, -1,  1, -1, -1,  1, -1, -1, -1, -1, -1,  1, -1, -1, -1,\n       -1, -1, -1,  1,  1,  1, -1, -1, -1,  1, -1, -1, -1,  1,  1,  1, -1,\n        1,  1,  1, -1,  1], dtype=int64)"
     },
     "execution_count": 15,
     "metadata": {},
     "output_type": "execute_result"
    }
   ],
   "source": [
    "y_train"
   ],
   "metadata": {
    "collapsed": false,
    "ExecuteTime": {
     "end_time": "2023-11-07T04:22:42.008359500Z",
     "start_time": "2023-11-07T04:22:41.966680100Z"
    }
   },
   "id": "29cf3e7909681c84"
  },
  {
   "cell_type": "code",
   "execution_count": 25,
   "outputs": [],
   "source": [
    "# now need to do a voted perceptron\n",
    "# need to initialize variables\n",
    "vote_w = []\n",
    "count_list = []\n",
    "weights = np.zeros(x_train.shape[1])\n",
    "c = 0\n",
    "# m is an index\n",
    "#m = 0\n",
    "b = 0.0\n",
    "epochs = 10"
   ],
   "metadata": {
    "collapsed": false,
    "ExecuteTime": {
     "end_time": "2023-11-07T04:26:38.379419600Z",
     "start_time": "2023-11-07T04:26:38.354178800Z"
    }
   },
   "id": "260d3aa5c84e0dbb"
  },
  {
   "cell_type": "code",
   "execution_count": 26,
   "outputs": [],
   "source": [
    "# voted perceptron\n",
    "for T in range(epochs):\n",
    "    for feature, label in zip(x_train, y_train):\n",
    "        #prediction = (np.dot(weights, feature) + b) * label\n",
    "        predict_vote = np.dot(weights, feature) + b\n",
    "        label_predict_vote = np.sign(predict_vote)\n",
    "        \n",
    "        if label_predict_vote != label:\n",
    "            #update when mistake\n",
    "            #for voted weights might need c\n",
    "            # coppy before or after change?\n",
    "            vote_w.append(weights.copy())\n",
    "            count_list.append(c)\n",
    "            \n",
    "            \n",
    "            weights += label*feature\n",
    "            b += label\n",
    "            #m += 1\n",
    "            c = 1\n",
    "    \n",
    "            \n",
    "        else:\n",
    "           \n",
    "            c = c + 1\n",
    "            \n",
    "    "
   ],
   "metadata": {
    "collapsed": false,
    "ExecuteTime": {
     "end_time": "2023-11-07T04:26:38.833937200Z",
     "start_time": "2023-11-07T04:26:38.769190200Z"
    }
   },
   "id": "ade8f22bef9159fa"
  },
  {
   "cell_type": "code",
   "execution_count": 27,
   "outputs": [],
   "source": [
    "total_vote_err = 0.0\n",
    "for feature, label in zip(x_test, y_test):\n",
    "    #what is the point of weight predict\n",
    "    #weighted_predict = np.dot(feature, weights) + b\n",
    "    \n",
    "    #added np.sign\n",
    "    predicted_vote_label = np.sign(sum(c * np.sign((np.dot(w, feature) + b)) for w, c in zip(vote_w, count_list)))\n",
    "    #predicted_vote_label = sum(c * np.sign(np.dot(v_w, feature) + b) for v_w, c in zip(vote_w, count_list))\n",
    "    \n",
    "    vote_err = abs(predicted_vote_label - label)\n",
    "    total_vote_err += vote_err\n",
    "    \n",
    "average_vote_predict_error = total_vote_err/ len(y_test)"
   ],
   "metadata": {
    "collapsed": false,
    "ExecuteTime": {
     "end_time": "2023-11-07T04:26:39.713327300Z",
     "start_time": "2023-11-07T04:26:39.393086600Z"
    }
   },
   "id": "12728dfa813928fb"
  },
  {
   "cell_type": "code",
   "execution_count": 28,
   "outputs": [
    {
     "name": "stdout",
     "output_type": "stream",
     "text": [
      "Average Vote Error: 0.02\n"
     ]
    }
   ],
   "source": [
    "print(f\"Average Vote Error: {average_vote_predict_error}\")"
   ],
   "metadata": {
    "collapsed": false,
    "ExecuteTime": {
     "end_time": "2023-11-07T04:26:40.848859900Z",
     "start_time": "2023-11-07T04:26:40.828113500Z"
    }
   },
   "id": "f713f65d5ca3977c"
  },
  {
   "cell_type": "code",
   "execution_count": 29,
   "outputs": [
    {
     "name": "stdout",
     "output_type": "stream",
     "text": [
      "Count(Vote): 0, Weight Vector(Vote): [0. 0. 0. 0.]\n",
      "Count(Vote): 2, Weight Vector(Vote): [ -3.8481 -10.1539   3.8561   4.2228]\n",
      "Count(Vote): 1, Weight Vector(Vote): [-3.800092 -8.5502   -4.6195    3.46722 ]\n",
      "Count(Vote): 8, Weight Vector(Vote): [-5.066792 -5.7319   -7.0455    1.58102 ]\n",
      "Count(Vote): 3, Weight Vector(Vote): [-7.119692 -1.8934   -7.84094   0.36722 ]\n",
      "Count(Vote): 7, Weight Vector(Vote): [-10.388892 -14.634      7.71636    0.2254  ]\n",
      "Count(Vote): 5, Weight Vector(Vote): [-14.309292 -10.5617     7.47958   -1.8897  ]\n",
      "Count(Vote): 9, Weight Vector(Vote): [-17.775992  -6.4893     3.19138   -3.4315  ]\n",
      "Count(Vote): 10, Weight Vector(Vote): [-17.658162  -4.9104    -4.83862   -3.403469]\n",
      "Count(Vote): 2, Weight Vector(Vote): [-16.208062  -1.3037    -8.89432   -5.000069]\n",
      "Count(Vote): 1, Weight Vector(Vote): [-20.884562  -6.9673     2.07468   -5.334559]\n",
      "Count(Vote): 3, Weight Vector(Vote): [-18.236662 -17.1047     3.40568    0.136141]\n",
      "Count(Vote): 1, Weight Vector(Vote): [-18.120742 -13.8828    -0.02452   -2.709559]\n",
      "Count(Vote): 8, Weight Vector(Vote): [-20.708742 -10.0174    -0.35812   -3.989259]\n",
      "Count(Vote): 2, Weight Vector(Vote): [-20.587482  -9.79393   -0.83139   -3.019019]\n",
      "Count(Vote): 10, Weight Vector(Vote): [-21.078292  -6.94873   -4.47499   -6.119419]\n",
      "Count(Vote): 2, Weight Vector(Vote): [-18.883992  -2.39843   -9.45099   -8.844819]\n",
      "Count(Vote): 3, Weight Vector(Vote): [-22.905792 -10.70243    3.10401  -10.354719]\n",
      "Count(Vote): 14, Weight Vector(Vote): [-22.795472  -8.72833   -0.26279  -11.007309]\n",
      "Count(Vote): 6, Weight Vector(Vote): [-22.494662  -8.55452   -2.01699  -10.518099]\n",
      "Count(Vote): 11, Weight Vector(Vote): [-21.894162  -6.62182   -5.30579  -10.842249]\n",
      "Count(Vote): 17, Weight Vector(Vote): [-20.838962  -5.43612   -7.94689  -10.731919]\n",
      "Count(Vote): 27, Weight Vector(Vote): [-20.890941 -12.48822   -5.89279   -7.581119]\n",
      "Count(Vote): 30, Weight Vector(Vote): [-22.034141  -8.74692  -11.47049   -6.945339]\n",
      "Count(Vote): 3, Weight Vector(Vote): [-19.386241 -18.88432  -10.13949   -1.474639]\n",
      "Count(Vote): 12, Weight Vector(Vote): [-18.419161 -15.04172  -15.07089   -5.606939]\n",
      "Count(Vote): 6, Weight Vector(Vote): [-18.748401 -10.58652  -19.64269   -4.618139]\n",
      "Count(Vote): 7, Weight Vector(Vote): [-20.458801 -15.36452  -13.43179   -4.220739]\n",
      "Count(Vote): 31, Weight Vector(Vote): [-19.899411 -15.67492  -13.24872   -3.774209]\n",
      "Count(Vote): 13, Weight Vector(Vote): [-20.418911 -12.41162  -16.33822   -2.789309]\n",
      "Count(Vote): 2, Weight Vector(Vote): [-23.561211 -25.44812   -0.66092   -3.450959]\n",
      "Count(Vote): 1, Weight Vector(Vote): [-25.286911 -20.97842   -8.88282   -1.643659]\n",
      "Count(Vote): 30, Weight Vector(Vote): [-32.329011 -11.77842   -8.62349   -6.326859]\n",
      "Count(Vote): 53, Weight Vector(Vote): [-30.649111  -7.57162  -13.16329   -8.719959]\n",
      "Count(Vote): 15, Weight Vector(Vote): [-29.297311  -6.51212  -15.50699   -8.319979]\n",
      "Count(Vote): 24, Weight Vector(Vote): [-32.803311 -19.07882   -0.34639   -9.072139]\n",
      "Count(Vote): 18, Weight Vector(Vote): [-31.070211 -15.12442   -5.08759  -11.573839]\n",
      "Count(Vote): 17, Weight Vector(Vote): [-32.891811  -8.64962  -13.13899  -11.155289]\n",
      "Count(Vote): 5, Weight Vector(Vote): [-32.104911 -18.21592   -9.35229   -3.651889]\n",
      "Count(Vote): 18, Weight Vector(Vote): [-30.597211 -16.25632  -12.41069   -3.774319]\n",
      "Count(Vote): 104, Weight Vector(Vote): [-29.585511 -15.35412  -14.76129   -3.347179]\n",
      "Count(Vote): 21, Weight Vector(Vote): [-27.193811 -10.79762  -19.75009   -6.245879]\n",
      "Count(Vote): 27, Weight Vector(Vote): [-30.799111 -16.77162   -9.65849   -7.074339]\n",
      "Count(Vote): 27, Weight Vector(Vote): [-30.638031 -10.30922  -18.01579   -5.552739]\n",
      "Count(Vote): 12, Weight Vector(Vote): [-34.334131 -23.98712   -0.43629   -8.170839]\n",
      "Count(Vote): 1, Weight Vector(Vote): [-33.439011 -19.21332   -5.27939  -13.761739]\n",
      "Count(Vote): 113, Weight Vector(Vote): [-33.958481 -15.95002   -8.36889  -12.776819]\n",
      "Count(Vote): 1, Weight Vector(Vote): [-34.287681 -11.49482  -12.94069  -11.788019]\n",
      "Count(Vote): 10, Weight Vector(Vote): [-32.256681  -9.64282  -15.95279  -11.785016]\n",
      "Count(Vote): 28, Weight Vector(Vote): [-31.893891 -17.93232  -14.03149   -8.451816]\n",
      "Count(Vote): 48, Weight Vector(Vote): [-29.876191 -16.13412  -16.98959   -8.241916]\n",
      "Count(Vote): 7, Weight Vector(Vote): [-28.656391 -14.03592  -20.18499   -8.113486]\n",
      "Count(Vote): 29, Weight Vector(Vote): [-27.869491 -23.60222  -16.39829   -0.610086]\n",
      "Count(Vote): 24, Weight Vector(Vote): [-34.205891 -14.31742  -16.384015  -7.394486]\n",
      "Count(Vote): 28, Weight Vector(Vote): [-31.557991 -24.45482  -15.053015  -1.923786]\n",
      "Count(Vote): 27, Weight Vector(Vote): [-30.107891 -20.84812  -19.108715  -3.520386]\n",
      "Count(Vote): 2, Weight Vector(Vote): [-27.913591 -16.29782  -24.084715  -6.245786]\n",
      "Count(Vote): 23, Weight Vector(Vote): [-31.935391 -24.60182  -11.529715  -7.755686]\n",
      "Count(Vote): 11, Weight Vector(Vote): [-31.334891 -22.66912  -14.818515  -8.079836]\n",
      "Count(Vote): 11, Weight Vector(Vote): [-30.279691 -21.48342  -17.459615  -7.969506]\n",
      "Count(Vote): 78, Weight Vector(Vote): [-28.790091 -18.05462  -21.490515  -9.395406]\n",
      "Count(Vote): 6, Weight Vector(Vote): [-29.119331 -13.59942  -26.062315  -8.406606]\n",
      "Count(Vote): 38, Weight Vector(Vote): [-30.829731 -18.37742  -19.851415  -8.009206]\n",
      "Count(Vote): 13, Weight Vector(Vote): [-31.349231 -15.11412  -22.940915  -7.024306]\n",
      "Count(Vote): 2, Weight Vector(Vote): [-34.491531 -28.15062   -7.263615  -7.685956]\n",
      "Count(Vote): 6, Weight Vector(Vote): [-36.217231 -23.68092  -15.485515  -5.878656]\n",
      "Count(Vote): 25, Weight Vector(Vote): [-37.146931 -19.88382  -20.128415  -5.582956]\n",
      "Count(Vote): 20, Weight Vector(Vote): [-35.467031 -15.67702  -24.668215  -7.976056]\n",
      "Count(Vote): 23, Weight Vector(Vote): [-38.697531 -22.89052  -13.024915  -8.922186]\n",
      "Count(Vote): 10, Weight Vector(Vote): [-38.052811 -18.28432  -21.371915  -6.212286]\n",
      "Count(Vote): 74, Weight Vector(Vote): [-36.701011 -17.22482  -23.715615  -5.812306]\n",
      "Count(Vote): 5, Weight Vector(Vote): [-35.914111 -26.79112  -19.928915   1.691094]\n",
      "Count(Vote): 58, Weight Vector(Vote): [-34.406411 -24.83152  -22.987315   1.568664]\n",
      "Count(Vote): 26, Weight Vector(Vote): [-33.724611 -19.98112  -28.200615  -4.535636]\n",
      "Count(Vote): 38, Weight Vector(Vote): [-36.261911 -26.94012  -19.395215  -3.006736]\n",
      "Count(Vote): 53, Weight Vector(Vote): [-33.870211 -22.38362  -24.384015  -5.905436]\n",
      "Count(Vote): 22, Weight Vector(Vote): [-34.389711 -19.12032  -27.473515  -4.920536]\n",
      "Count(Vote): 12, Weight Vector(Vote): [-38.085811 -32.79822   -9.894015  -7.538636]\n",
      "Count(Vote): 1, Weight Vector(Vote): [-37.190691 -28.02442  -14.737115 -13.129536]\n",
      "Count(Vote): 113, Weight Vector(Vote): [-37.710161 -24.76112  -17.826615 -12.144616]\n",
      "Count(Vote): 1, Weight Vector(Vote): [-38.039361 -20.30592  -22.398415 -11.155816]\n",
      "Count(Vote): 38, Weight Vector(Vote): [-36.008361 -18.45392  -25.410515 -11.152813]\n",
      "Count(Vote): 49, Weight Vector(Vote): [-33.990661 -16.65572  -28.368615 -10.942913]\n",
      "Count(Vote): 114, Weight Vector(Vote): [-34.711341 -23.41402  -22.527815 -10.319223]\n",
      "Count(Vote): 2, Weight Vector(Vote): [-32.517041 -18.86372  -27.503815 -13.044623]\n",
      "Count(Vote): 34, Weight Vector(Vote): [-36.538841 -27.16772  -14.948815 -14.554523]\n",
      "Count(Vote): 11, Weight Vector(Vote): [-35.483641 -25.98202  -17.589915 -14.444193]\n",
      "Count(Vote): 63, Weight Vector(Vote): [-33.994041 -22.55322  -21.620815 -15.870093]\n",
      "Count(Vote): 15, Weight Vector(Vote): [-31.346141 -32.69062  -20.289815 -10.399393]\n",
      "Count(Vote): 44, Weight Vector(Vote): [-31.675381 -28.23542  -24.861615  -9.410593]\n",
      "Count(Vote): 49, Weight Vector(Vote): [-32.194881 -24.97212  -27.951115  -8.425693]\n",
      "Count(Vote): 17, Weight Vector(Vote): [-32.714381 -21.70882  -31.040615  -7.440793]\n",
      "Count(Vote): 23, Weight Vector(Vote): [-35.944881 -28.92232  -19.397315  -8.386923]\n",
      "Count(Vote): 211, Weight Vector(Vote): [-35.300161 -24.31612  -27.744315  -5.677023]\n",
      "Count(Vote): 11, Weight Vector(Vote): [-32.908461 -19.75962  -32.733115  -8.575723]\n",
      "Count(Vote): 37, Weight Vector(Vote): [-36.665761 -28.05122  -22.429915  -8.195133]\n",
      "Count(Vote): 27, Weight Vector(Vote): [-36.504681 -21.58882  -30.787215  -6.673533]\n",
      "Count(Vote): 12, Weight Vector(Vote): [-40.200781 -35.26672  -13.207715  -9.291633]\n",
      "Count(Vote): 1, Weight Vector(Vote): [-39.305661 -30.49292  -18.050815 -14.882533]\n",
      "Count(Vote): 113, Weight Vector(Vote): [-39.825131 -27.22962  -21.140315 -13.897613]\n",
      "Count(Vote): 1, Weight Vector(Vote): [-40.154331 -22.77442  -25.712115 -12.908813]\n",
      "Count(Vote): 38, Weight Vector(Vote): [-38.123331 -20.92242  -28.724215 -12.90581 ]\n",
      "Count(Vote): 49, Weight Vector(Vote): [-36.105631 -19.12422  -31.682315 -12.69591 ]\n",
      "Count(Vote): 6, Weight Vector(Vote): [-36.826311 -25.88252  -25.841515 -12.07222 ]\n",
      "Count(Vote): 29, Weight Vector(Vote): [-36.039411 -35.44882  -22.054815  -4.56882 ]\n",
      "Count(Vote): 52, Weight Vector(Vote): [-42.375811 -26.16402  -22.04054  -11.35322 ]\n",
      "Count(Vote): 3, Weight Vector(Vote): [-40.925711 -22.55732  -26.09624  -12.94982 ]\n",
      "Count(Vote): 24, Weight Vector(Vote): [-38.277811 -32.69472  -24.76524   -7.47912 ]\n",
      "Count(Vote): 125, Weight Vector(Vote): [-36.083511 -28.14442  -29.74124  -10.20452 ]\n",
      "Count(Vote): 6, Weight Vector(Vote): [-36.412751 -23.68922  -34.31304   -9.21572 ]\n",
      "Count(Vote): 38, Weight Vector(Vote): [-38.123151 -28.46722  -28.10214   -8.81832 ]\n",
      "Count(Vote): 13, Weight Vector(Vote): [-38.642651 -25.20392  -31.19164   -7.83342 ]\n",
      "Count(Vote): 2, Weight Vector(Vote): [-41.784951 -38.24042  -15.51434   -8.49507 ]\n",
      "Count(Vote): 6, Weight Vector(Vote): [-43.510651 -33.77072  -23.73624   -6.68777 ]\n",
      "Count(Vote): 25, Weight Vector(Vote): [-44.440351 -29.97362  -28.37914   -6.39207 ]\n",
      "Count(Vote): 20, Weight Vector(Vote): [-42.760451 -25.76682  -32.91894   -8.78517 ]\n",
      "Count(Vote): 23, Weight Vector(Vote): [-45.990951 -32.98032  -21.27564   -9.7313  ]\n",
      "Count(Vote): 49, Weight Vector(Vote): [-45.346231 -28.37412  -29.62264   -7.0214  ]\n",
      "Count(Vote): 35, Weight Vector(Vote): [-43.613131 -24.41972  -34.36384   -9.5231  ]\n",
      "Count(Vote): 5, Weight Vector(Vote): [-42.826231 -33.98602  -30.57714   -2.0197  ]\n",
      "Count(Vote): 122, Weight Vector(Vote): [-41.318531 -32.02642  -33.63554   -2.14213 ]\n",
      "Count(Vote): 21, Weight Vector(Vote): [-38.926831 -27.46992  -38.62434   -5.04083 ]\n",
      "Count(Vote): 27, Weight Vector(Vote): [-42.532131 -33.44392  -28.53274   -5.86929 ]\n",
      "Count(Vote): 27, Weight Vector(Vote): [-42.371051 -26.98152  -36.89004   -4.34769 ]\n",
      "Count(Vote): 12, Weight Vector(Vote): [-46.067151 -40.65942  -19.31054   -6.96579 ]\n",
      "Count(Vote): 1, Weight Vector(Vote): [-45.172031 -35.88562  -24.15364  -12.55669 ]\n",
      "Count(Vote): 113, Weight Vector(Vote): [-45.691501 -32.62232  -27.24314  -11.57177 ]\n",
      "Count(Vote): 1, Weight Vector(Vote): [-46.020701 -28.16712  -31.81494  -10.58297 ]\n",
      "Count(Vote): 38, Weight Vector(Vote): [-43.989701 -26.31512  -34.82704  -10.579967]\n",
      "Count(Vote): 52, Weight Vector(Vote): [-41.972001 -24.51692  -37.78514  -10.370067]\n",
      "Count(Vote): 84, Weight Vector(Vote): [-43.811101 -33.60522  -28.54354  -10.474387]\n",
      "Count(Vote): 152, Weight Vector(Vote): [-42.361001 -29.99852  -32.59924  -12.070987]\n",
      "Count(Vote): 6, Weight Vector(Vote): [-42.690241 -25.54332  -37.17104  -11.082187]\n",
      "Count(Vote): 38, Weight Vector(Vote): [-44.400641 -30.32132  -30.96014  -10.684787]\n",
      "Count(Vote): 49, Weight Vector(Vote): [-44.920141 -27.05802  -34.04964   -9.699887]\n",
      "Count(Vote): 17, Weight Vector(Vote): [-45.439641 -23.79472  -37.13914   -8.714987]\n",
      "Count(Vote): 23, Weight Vector(Vote): [-48.670141 -31.00822  -25.49584   -9.661117]\n",
      "Count(Vote): 84, Weight Vector(Vote): [-48.025421 -26.40202  -33.84284   -6.951217]\n",
      "Count(Vote): 5, Weight Vector(Vote): [-47.238521 -35.96832  -30.05614    0.552183]\n",
      "Count(Vote): 82, Weight Vector(Vote): [-45.730821 -34.00872  -33.11454    0.429753]\n",
      "Count(Vote): 38, Weight Vector(Vote): [-44.993221 -29.15622  -37.91314   -5.236147]\n",
      "Count(Vote): 2, Weight Vector(Vote): [-49.370521 -34.67292  -26.97414   -5.644347]\n",
      "Count(Vote): 53, Weight Vector(Vote): [-46.978821 -30.11642  -31.96294   -8.543047]\n",
      "Count(Vote): 22, Weight Vector(Vote): [-47.498321 -26.85312  -35.05244   -7.558147]\n",
      "Count(Vote): 12, Weight Vector(Vote): [-51.194421 -40.53102  -17.47294  -10.176247]\n",
      "Count(Vote): 1, Weight Vector(Vote): [-50.299301 -35.75722  -22.31604  -15.767147]\n",
      "Count(Vote): 113, Weight Vector(Vote): [-50.818771 -32.49392  -25.40554  -14.782227]\n",
      "Count(Vote): 1, Weight Vector(Vote): [-51.147971 -28.03872  -29.97734  -13.793427]\n",
      "Count(Vote): 38, Weight Vector(Vote): [-49.116971 -26.18672  -32.98944  -13.790424]\n",
      "Count(Vote): 55, Weight Vector(Vote): [-47.099271 -24.38852  -35.94754  -13.580524]\n",
      "Count(Vote): 81, Weight Vector(Vote): [-46.312371 -33.95482  -32.16084   -6.077124]\n",
      "Count(Vote): 61, Weight Vector(Vote): [-44.862271 -30.34812  -36.21654   -7.673724]\n",
      "Count(Vote): 13, Weight Vector(Vote): [-48.220471 -37.58852  -24.77464   -8.244854]\n",
      "Count(Vote): 78, Weight Vector(Vote): [-46.730871 -34.15972  -28.80554   -9.670754]\n",
      "Count(Vote): 44, Weight Vector(Vote): [-47.060111 -29.70452  -33.37734   -8.681954]\n",
      "Count(Vote): 13, Weight Vector(Vote): [-47.579611 -26.44122  -36.46684   -7.697054]\n",
      "Count(Vote): 8, Weight Vector(Vote): [-50.721911 -39.47772  -20.78954   -8.358704]\n",
      "Count(Vote): 25, Weight Vector(Vote): [-51.651611 -35.68062  -25.43244   -8.063004]\n",
      "Count(Vote): 3, Weight Vector(Vote): [-49.971711 -31.47382  -29.97224  -10.456104]\n",
      "Count(Vote): 124, Weight Vector(Vote): [-50.491211 -28.21052  -33.06174   -9.471204]\n",
      "Count(Vote): 5, Weight Vector(Vote): [-49.704311 -37.77682  -29.27504   -1.967804]\n",
      "Count(Vote): 82, Weight Vector(Vote): [-48.196611 -35.81722  -32.33344   -2.090234]\n",
      "Count(Vote): 40, Weight Vector(Vote): [-47.459011 -30.96472  -37.13204   -7.756134]\n",
      "Count(Vote): 11, Weight Vector(Vote): [-45.067311 -26.40822  -42.12084  -10.654834]\n",
      "Count(Vote): 37, Weight Vector(Vote): [-48.824611 -34.69982  -31.81764  -10.274244]\n",
      "Count(Vote): 27, Weight Vector(Vote): [-48.663531 -28.23742  -40.17494   -8.752644]\n",
      "Count(Vote): 12, Weight Vector(Vote): [-52.359631 -41.91532  -22.59544  -11.370744]\n",
      "Count(Vote): 1, Weight Vector(Vote): [-51.464511 -37.14152  -27.43854  -16.961644]\n",
      "Count(Vote): 113, Weight Vector(Vote): [-51.983981 -33.87822  -30.52804  -15.976724]\n",
      "Count(Vote): 1, Weight Vector(Vote): [-52.313181 -29.42302  -35.09984  -14.987924]\n",
      "Count(Vote): 93, Weight Vector(Vote): [-50.282181 -27.57102  -38.11194  -14.984921]\n",
      "Count(Vote): 81, Weight Vector(Vote): [-49.495281 -37.13732  -34.32524   -7.481521]\n",
      "Count(Vote): 27, Weight Vector(Vote): [-48.045181 -33.53062  -38.38094   -9.078121]\n",
      "Count(Vote): 2, Weight Vector(Vote): [-45.850881 -28.98032  -43.35694  -11.803521]\n",
      "Count(Vote): 45, Weight Vector(Vote): [-49.872681 -37.28432  -30.80194  -13.313421]\n",
      "Count(Vote): 78, Weight Vector(Vote): [-48.383081 -33.85552  -34.83284  -14.739321]\n",
      "Count(Vote): 44, Weight Vector(Vote): [-48.712321 -29.40032  -39.40464  -13.750521]\n",
      "Count(Vote): 13, Weight Vector(Vote): [-49.231821 -26.13702  -42.49414  -12.765621]\n",
      "Count(Vote): 8, Weight Vector(Vote): [-52.374121 -39.17352  -26.81684  -13.427271]\n",
      "Count(Vote): 25, Weight Vector(Vote): [-53.303821 -35.37642  -31.45974  -13.131571]\n",
      "Count(Vote): 3, Weight Vector(Vote): [-51.623921 -31.16962  -35.99954  -15.524671]\n",
      "Count(Vote): 17, Weight Vector(Vote): [-52.143421 -27.90632  -39.08904  -14.539771]\n",
      "Count(Vote): 23, Weight Vector(Vote): [-55.373921 -35.11982  -27.44574  -15.485901]\n",
      "Count(Vote): 84, Weight Vector(Vote): [-54.729201 -30.51362  -35.79274  -12.776001]\n",
      "Count(Vote): 5, Weight Vector(Vote): [-53.942301 -40.07992  -32.00604   -5.272601]\n",
      "Count(Vote): 122, Weight Vector(Vote): [-52.434601 -38.12032  -35.06444   -5.395031]\n",
      "Count(Vote): 53, Weight Vector(Vote): [-50.042901 -33.56382  -40.05324   -8.293731]\n",
      "Count(Vote): 22, Weight Vector(Vote): [-50.562401 -30.30052  -43.14274   -7.308831]\n",
      "Count(Vote): 12, Weight Vector(Vote): [-54.258501 -43.97842  -25.56324   -9.926931]\n",
      "Count(Vote): 1, Weight Vector(Vote): [-53.363381 -39.20462  -30.40634  -15.517831]\n",
      "Count(Vote): 113, Weight Vector(Vote): [-53.882851 -35.94132  -33.49584  -14.532911]\n",
      "Count(Vote): 1, Weight Vector(Vote): [-54.212051 -31.48612  -38.06764  -13.544111]\n",
      "Count(Vote): 93, Weight Vector(Vote): [-52.181051 -29.63412  -41.07974  -13.541108]\n",
      "Count(Vote): 81, Weight Vector(Vote): [-51.394151 -39.20042  -37.29304   -6.037708]\n",
      "Count(Vote): 27, Weight Vector(Vote): [-49.944051 -35.59372  -41.34874   -7.634308]\n",
      "Count(Vote): 2, Weight Vector(Vote): [-47.749751 -31.04342  -46.32474  -10.359708]\n",
      "Count(Vote): 45, Weight Vector(Vote): [-51.771551 -39.34742  -33.76974  -11.869608]\n",
      "Count(Vote): 78, Weight Vector(Vote): [-50.281951 -35.91862  -37.80064  -13.295508]\n",
      "Count(Vote): 44, Weight Vector(Vote): [-50.611191 -31.46342  -42.37244  -12.306708]\n",
      "Count(Vote): 13, Weight Vector(Vote): [-51.130691 -28.20012  -45.46194  -11.321808]\n",
      "Count(Vote): 8, Weight Vector(Vote): [-54.272991 -41.23662  -29.78464  -11.983458]\n",
      "Count(Vote): 25, Weight Vector(Vote): [-55.202691 -37.43952  -34.42754  -11.687758]\n",
      "Count(Vote): 3, Weight Vector(Vote): [-53.522791 -33.23272  -38.96734  -14.080858]\n",
      "Count(Vote): 17, Weight Vector(Vote): [-54.042291 -29.96942  -42.05684  -13.095958]\n",
      "Count(Vote): 23, Weight Vector(Vote): [-57.272791 -37.18292  -30.41354  -14.042088]\n",
      "Count(Vote): 84, Weight Vector(Vote): [-56.628071 -32.57672  -38.76054  -11.332188]\n",
      "Count(Vote): 5, Weight Vector(Vote): [-55.841171 -42.14302  -34.97384   -3.828788]\n",
      "Count(Vote): 122, Weight Vector(Vote): [-54.333471 -40.18342  -38.03224   -3.951218]\n",
      "Count(Vote): 32, Weight Vector(Vote): [-51.941771 -35.62692  -43.02104   -6.849918]\n",
      "Count(Vote): 16, Weight Vector(Vote): [-55.028371 -42.26312  -32.48054   -7.741738]\n",
      "Count(Vote): 5, Weight Vector(Vote): [-54.867291 -35.80072  -40.83784   -6.220138]\n",
      "Count(Vote): 22, Weight Vector(Vote): [-55.386791 -32.53742  -43.92734   -5.235238]\n",
      "Count(Vote): 12, Weight Vector(Vote): [-59.082891 -46.21532  -26.34784   -7.853338]\n",
      "Count(Vote): 1, Weight Vector(Vote): [-58.187771 -41.44152  -31.19094  -13.444238]\n",
      "Count(Vote): 113, Weight Vector(Vote): [-58.707241 -38.17822  -34.28044  -12.459318]\n",
      "Count(Vote): 1, Weight Vector(Vote): [-59.036441 -33.72302  -38.85224  -11.470518]\n",
      "Count(Vote): 38, Weight Vector(Vote): [-57.005441 -31.87102  -41.86434  -11.467515]\n",
      "Count(Vote): 55, Weight Vector(Vote): [-54.987741 -30.07282  -44.82244  -11.257615]\n",
      "Count(Vote): 81, Weight Vector(Vote): [-54.200841 -39.63912  -41.03574   -3.754215]\n",
      "Count(Vote): 34, Weight Vector(Vote): [-52.750741 -36.03242  -45.09144   -5.350815]\n",
      "Count(Vote): 1, Weight Vector(Vote): [-56.571041 -49.08752  -28.13314   -7.656015]\n",
      "Count(Vote): 39, Weight Vector(Vote): [-62.051841 -40.90562  -27.85496  -12.688315]\n",
      "Count(Vote): 78, Weight Vector(Vote): [-60.562241 -37.47682  -31.88586  -14.114215]\n",
      "Count(Vote): 44, Weight Vector(Vote): [-60.891481 -33.02162  -36.45766  -13.125415]\n",
      "Count(Vote): 49, Weight Vector(Vote): [-61.410981 -29.75832  -39.54716  -12.140515]\n",
      "Count(Vote): 17, Weight Vector(Vote): [-61.930481 -26.49502  -42.63666  -11.155615]\n",
      "Count(Vote): 23, Weight Vector(Vote): [-65.160981 -33.70852  -30.99336  -12.101745]\n",
      "Count(Vote): 84, Weight Vector(Vote): [-64.516261 -29.10232  -39.34036   -9.391845]\n",
      "Count(Vote): 5, Weight Vector(Vote): [-63.729361 -38.66862  -35.55366   -1.888445]\n",
      "Count(Vote): 122, Weight Vector(Vote): [-62.221661 -36.70902  -38.61206   -2.010875]\n",
      "Count(Vote): 32, Weight Vector(Vote): [-59.829961 -32.15252  -43.60086   -4.909575]\n",
      "Count(Vote): 16, Weight Vector(Vote): [-62.916561 -38.78872  -33.06036   -5.801395]\n",
      "Count(Vote): 154, Weight Vector(Vote): [-62.755481 -32.32632  -41.41766   -4.279795]\n",
      "Count(Vote): 15, Weight Vector(Vote): [-60.724481 -30.47432  -44.42976   -4.276792]\n",
      "Count(Vote): 23, Weight Vector(Vote): [-64.741781 -38.78662  -31.97506   -5.714292]\n",
      "Count(Vote): 136, Weight Vector(Vote): [-62.724081 -36.98842  -34.93316   -5.504392]\n",
      "Count(Vote): 27, Weight Vector(Vote): [-61.273981 -33.38172  -38.98886   -7.100992]\n",
      "Count(Vote): 2, Weight Vector(Vote): [-59.079681 -28.83142  -43.96486   -9.826392]\n",
      "Count(Vote): 45, Weight Vector(Vote): [-63.101481 -37.13542  -31.40986  -11.336292]\n",
      "Count(Vote): 78, Weight Vector(Vote): [-61.611881 -33.70662  -35.44076  -12.762192]\n",
      "Count(Vote): 44, Weight Vector(Vote): [-61.941121 -29.25142  -40.01256  -11.773392]\n",
      "Count(Vote): 13, Weight Vector(Vote): [-62.460621 -25.98812  -43.10206  -10.788492]\n",
      "Count(Vote): 8, Weight Vector(Vote): [-65.602921 -39.02462  -27.42476  -11.450142]\n",
      "Count(Vote): 25, Weight Vector(Vote): [-66.532621 -35.22752  -32.06766  -11.154442]\n",
      "Count(Vote): 3, Weight Vector(Vote): [-64.852721 -31.02072  -36.60746  -13.547542]\n",
      "Count(Vote): 124, Weight Vector(Vote): [-65.372221 -27.75742  -39.69696  -12.562642]\n",
      "Count(Vote): 5, Weight Vector(Vote): [-64.585321 -37.32372  -35.91026   -5.059242]\n",
      "Count(Vote): 122, Weight Vector(Vote): [-63.077621 -35.36412  -38.96866   -5.181672]\n",
      "Count(Vote): 32, Weight Vector(Vote): [-60.685921 -30.80762  -43.95746   -8.080372]\n",
      "Count(Vote): 16, Weight Vector(Vote): [-63.772521 -37.44382  -33.41696   -8.972192]\n",
      "Count(Vote): 5, Weight Vector(Vote): [-63.611441 -30.98142  -41.77426   -7.450592]\n",
      "Count(Vote): 22, Weight Vector(Vote): [-64.130941 -27.71812  -44.86376   -6.465692]\n",
      "Count(Vote): 12, Weight Vector(Vote): [-67.827041 -41.39602  -27.28426   -9.083792]\n",
      "Count(Vote): 1, Weight Vector(Vote): [-66.931921 -36.62222  -32.12736  -14.674692]\n",
      "Count(Vote): 31, Weight Vector(Vote): [-67.451391 -33.35892  -35.21686  -13.689772]\n",
      "Count(Vote): 82, Weight Vector(Vote): [-65.592991 -41.24492  -33.55256  -11.851372]\n",
      "Count(Vote): 1, Weight Vector(Vote): [-65.922191 -36.78972  -38.12436  -10.862572]\n",
      "Count(Vote): 38, Weight Vector(Vote): [-63.891191 -34.93772  -41.13646  -10.859569]\n",
      "Count(Vote): 55, Weight Vector(Vote): [-61.873491 -33.13952  -44.09456  -10.649669]\n"
     ]
    }
   ],
   "source": [
    "for w, c in zip(vote_w, count_list):\n",
    "    print(f'Count(Vote): {c}, Weight Vector(Vote): {w}' )"
   ],
   "metadata": {
    "collapsed": false,
    "ExecuteTime": {
     "end_time": "2023-11-07T04:26:41.723404400Z",
     "start_time": "2023-11-07T04:26:41.684383100Z"
    }
   },
   "id": "babf5993ee2e570b"
  },
  {
   "cell_type": "code",
   "execution_count": 30,
   "outputs": [
    {
     "data": {
      "text/plain": "array([-42.8962813 , -26.81727741, -26.20797595,  -8.54976174])"
     },
     "execution_count": 30,
     "metadata": {},
     "output_type": "execute_result"
    }
   ],
   "source": [
    "wa = np.zeros(x_train.shape[1])\n",
    "for w in vote_w:\n",
    "    wa += w\n",
    "    \n",
    "wa = wa / len(vote_w)\n",
    "wa\n",
    "\n",
    "# if you take the avaerage of all teh vote_weights and then average it, it is nearly the same as teh average perceptron"
   ],
   "metadata": {
    "collapsed": false,
    "ExecuteTime": {
     "end_time": "2023-11-07T04:29:28.706800700Z",
     "start_time": "2023-11-07T04:29:28.675681300Z"
    }
   },
   "id": "fa1fcb1d1c383523"
  },
  {
   "cell_type": "code",
   "execution_count": 31,
   "outputs": [
    {
     "name": "stdout",
     "output_type": "stream",
     "text": [
      "[-42.8962813  -26.81727741 -26.20797595  -8.54976174]\n"
     ]
    }
   ],
   "source": [
    "print(wa)"
   ],
   "metadata": {
    "collapsed": false,
    "ExecuteTime": {
     "end_time": "2023-11-07T04:33:16.373834300Z",
     "start_time": "2023-11-07T04:33:16.329129900Z"
    }
   },
   "id": "56a02e40a4aefbc3"
  },
  {
   "cell_type": "markdown",
   "source": [
    "# 2c"
   ],
   "metadata": {
    "collapsed": false
   },
   "id": "9289bff8e9742fa8"
  },
  {
   "cell_type": "code",
   "execution_count": 21,
   "outputs": [],
   "source": [
    "# initialize variables\n",
    "weights = np.zeros(x_train.shape[1])\n",
    "epoch = 10\n",
    "a = np.zeros(x_train.shape[1])\n",
    "b = 0.0\n",
    "sum_b = 0.0\n",
    "iterations = 0\n"
   ],
   "metadata": {
    "collapsed": false,
    "ExecuteTime": {
     "end_time": "2023-11-07T04:23:43.336179200Z",
     "start_time": "2023-11-07T04:23:43.334650900Z"
    }
   },
   "id": "7da4d56a1730d6c8"
  },
  {
   "cell_type": "code",
   "execution_count": 22,
   "outputs": [],
   "source": [
    "# average Perceptron\n",
    "\n",
    "for T in range(epoch):\n",
    "    for feature, label in zip(x_train, y_train):\n",
    "        predict = np.dot(weights, feature) + b\n",
    "        predict_label = np.sign(predict)\n",
    "        \n",
    "        if predict_label != label:\n",
    "            weights += feature * label\n",
    "            b += label\n",
    "            iterations += 1\n",
    "            \n",
    "            a += weights\n",
    "            sum_b += b\n",
    "\n",
    "averaged_weights = a / iterations\n",
    "average_b = sum_b / iterations"
   ],
   "metadata": {
    "collapsed": false,
    "ExecuteTime": {
     "end_time": "2023-11-07T04:23:44.128041Z",
     "start_time": "2023-11-07T04:23:44.093192200Z"
    }
   },
   "id": "7c691870a570a5d"
  },
  {
   "cell_type": "code",
   "execution_count": 23,
   "outputs": [
    {
     "name": "stdout",
     "output_type": "stream",
     "text": [
      "0.036\n"
     ]
    }
   ],
   "source": [
    "# now testing it\n",
    "\n",
    "total_average_err = 0.0\n",
    "\n",
    "for feature, label in zip(x_test, y_test):\n",
    "    prediction = np.dot(averaged_weights, feature) + average_b\n",
    "    predicted_average_label = np.sign(prediction)\n",
    "    \n",
    "    err_av = abs(predicted_average_label - label)\n",
    "    total_average_err += err_av\n",
    "    \n",
    "average_test_err_av = total_average_err / len(y_test)\n",
    "\n",
    "print(average_test_err_av)"
   ],
   "metadata": {
    "collapsed": false,
    "ExecuteTime": {
     "end_time": "2023-11-07T04:23:45.633910300Z",
     "start_time": "2023-11-07T04:23:45.601249900Z"
    }
   },
   "id": "1069ad05348a350c"
  },
  {
   "cell_type": "code",
   "execution_count": 24,
   "outputs": [
    {
     "name": "stdout",
     "output_type": "stream",
     "text": [
      "Averaged Test Error (average): 0.036\n",
      "Average Weight Vector (average): [-43.13213686 -26.98216475 -26.36360475  -8.5619095 ]\n"
     ]
    }
   ],
   "source": [
    "print(f'Averaged Test Error (average): {average_test_err_av}')\n",
    "print(f'Average Weight Vector (average): {averaged_weights}')"
   ],
   "metadata": {
    "collapsed": false,
    "ExecuteTime": {
     "end_time": "2023-11-07T04:23:47.798870Z",
     "start_time": "2023-11-07T04:23:47.767762900Z"
    }
   },
   "id": "7b12345f61a4fd73"
  },
  {
   "cell_type": "code",
   "execution_count": 32,
   "outputs": [
    {
     "name": "stdout",
     "output_type": "stream",
     "text": [
      "[-43.13213686 -26.98216475 -26.36360475  -8.5619095 ]\n"
     ]
    }
   ],
   "source": [
    "print(averaged_weights)"
   ],
   "metadata": {
    "collapsed": false,
    "ExecuteTime": {
     "end_time": "2023-11-01T23:32:20.667247500Z",
     "start_time": "2023-11-01T23:32:20.469790600Z"
    }
   },
   "id": "1301e742c20d0824"
  },
  {
   "cell_type": "code",
   "execution_count": 34,
   "outputs": [
    {
     "name": "stdout",
     "output_type": "stream",
     "text": [
      "Average Prediction Error (Standard): 0.04\n",
      "Average Vote Error: 0.02\n",
      "Averaged Test Error (average): 0.036\n"
     ]
    }
   ],
   "source": [
    "print(f'Average Prediction Error (Standard): {average_predict_error}')\n",
    "print(f\"Average Vote Error: {average_vote_predict_error}\")\n",
    "print(f'Averaged Test Error (average): {average_test_err_av}')"
   ],
   "metadata": {
    "collapsed": false,
    "ExecuteTime": {
     "end_time": "2023-11-01T23:33:27.373299500Z",
     "start_time": "2023-11-01T23:33:27.355823200Z"
    }
   },
   "id": "79194ed081fbfc0f"
  },
  {
   "cell_type": "code",
   "execution_count": null,
   "outputs": [],
   "source": [],
   "metadata": {
    "collapsed": false
   },
   "id": "62315d0e9b2bdebc"
  }
 ],
 "metadata": {
  "kernelspec": {
   "display_name": "Python 3",
   "language": "python",
   "name": "python3"
  },
  "language_info": {
   "codemirror_mode": {
    "name": "ipython",
    "version": 2
   },
   "file_extension": ".py",
   "mimetype": "text/x-python",
   "name": "python",
   "nbconvert_exporter": "python",
   "pygments_lexer": "ipython2",
   "version": "2.7.6"
  }
 },
 "nbformat": 4,
 "nbformat_minor": 5
}
