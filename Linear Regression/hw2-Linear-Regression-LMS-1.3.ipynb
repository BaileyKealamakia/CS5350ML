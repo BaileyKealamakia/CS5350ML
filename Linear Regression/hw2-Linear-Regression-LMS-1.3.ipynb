{
 "cells": [
  {
   "cell_type": "code",
   "execution_count": 1,
   "id": "initial_id",
   "metadata": {
    "collapsed": true,
    "ExecuteTime": {
     "end_time": "2023-10-20T23:50:30.234099800Z",
     "start_time": "2023-10-20T23:50:30.230081800Z"
    }
   },
   "outputs": [],
   "source": [
    "import pandas as pd\n",
    "import numpy as np\n",
    "import matplotlib.pyplot as plt"
   ]
  },
  {
   "cell_type": "code",
   "execution_count": 3,
   "outputs": [],
   "source": [
    "#loading in the data\n",
    "columns = ['Cement',\n",
    "           'Slag',\n",
    "           'Fly ash',\n",
    "           'Water',\n",
    "           'SP',\n",
    "           'Coarse Aggr',\n",
    "           'Fine Aggr',\n",
    "           'output']\n",
    "\n",
    "train_data = pd.read_csv('concrete/train.csv', names=columns, header=None)\n",
    "test_data = pd.read_csv('concrete/test.csv', names=columns, header=None)\n"
   ],
   "metadata": {
    "collapsed": false,
    "ExecuteTime": {
     "end_time": "2023-10-20T23:52:27.814228700Z",
     "start_time": "2023-10-20T23:52:27.786708300Z"
    }
   },
   "id": "6f07f817fd70ac0e"
  },
  {
   "cell_type": "code",
   "execution_count": 37,
   "outputs": [],
   "source": [],
   "metadata": {
    "collapsed": false,
    "ExecuteTime": {
     "end_time": "2023-10-21T01:04:51.147935900Z",
     "start_time": "2023-10-21T01:04:51.145922500Z"
    }
   },
   "id": "9bd544e5a2497c5f"
  },
  {
   "cell_type": "code",
   "execution_count": 37,
   "outputs": [],
   "source": [],
   "metadata": {
    "collapsed": false,
    "ExecuteTime": {
     "end_time": "2023-10-21T01:04:53.407965900Z",
     "start_time": "2023-10-21T01:04:53.385536600Z"
    }
   },
   "id": "e1adc57e241b35d0"
  },
  {
   "cell_type": "markdown",
   "source": [
    "# Batch gradient 4a"
   ],
   "metadata": {
    "collapsed": false
   },
   "id": "bdabcb8063a455e8"
  },
  {
   "cell_type": "code",
   "execution_count": 16,
   "outputs": [],
   "source": [
    "def batch_gradient_descent(data, result_variable, learning_rate=1.0, tolerance=1e-6):\n",
    "\n",
    "    # Extract features and target variable for training\n",
    "    X_train = data.drop(result_variable, axis=1).values\n",
    "    y_train = train_data[result_variable].values\n",
    "\n",
    "    # Initialize weight vector with zeros\n",
    "    weights = np.zeros(X_train.shape[1])\n",
    "\n",
    "    # variables to store cost function values and number of steps/iterations the program goes through\n",
    "    costs = []\n",
    "    steps = 0\n",
    "\n",
    "    while True:\n",
    "        steps += 1\n",
    "        prev_weights = weights.copy()\n",
    "\n",
    "        #predictions\n",
    "        y_pred = np.dot(X_train, weights)\n",
    "\n",
    "        #error\n",
    "        error = y_pred - y_train\n",
    "\n",
    "        #gradients\n",
    "        gradients = np.dot(X_train.T, error) / len(X_train)\n",
    "\n",
    "        # Update weights\n",
    "        new_weights = weights - learning_rate * gradients\n",
    "        weights = new_weights\n",
    "\n",
    "        # Calculate the cost on training data\n",
    "        cost_train = np.mean((y_pred - y_train) ** 2)\n",
    "        costs.append(cost_train)\n",
    "\n",
    "        # Check for convergence based on the norm of weight difference\n",
    "        if np.linalg.norm(new_weights - prev_weights) < tolerance:\n",
    "            # Plot cost vs. number of steps\n",
    "            plt.plot(range(steps), costs, marker='o')\n",
    "            plt.xlabel('Number of Steps')\n",
    "            plt.ylabel('Cost (Training Data)')\n",
    "            plt.title('Cost vs. Number of Steps')\n",
    "            plt.grid(True)\n",
    "            plt.show()\n",
    "            return weights, steps, learning_rate\n",
    "\n",
    "        # Decrease the learning rate\n",
    "        #print(\"Learning Rate: \", learning_rate)\n",
    "        learning_rate *= 0.5\n",
    "\n",
    "\n"
   ],
   "metadata": {
    "collapsed": false,
    "ExecuteTime": {
     "end_time": "2023-10-21T00:14:49.836248900Z",
     "start_time": "2023-10-21T00:14:49.813456Z"
    }
   },
   "id": "8127c48f8acb17af"
  },
  {
   "cell_type": "code",
   "execution_count": 28,
   "outputs": [
    {
     "data": {
      "text/plain": "<Figure size 640x480 with 1 Axes>",
      "image/png": "[encoded data removed]"
     },
     "metadata": {},
     "output_type": "display_data"
    },
    {
     "name": "stdout",
     "output_type": "stream",
     "text": [
      "Learned Weights: [-0.0078226  -0.19959296 -0.15863473  0.37577773 -0.02918666  0.11809481\n",
      " -0.03346571]\n",
      "Number of Steps:  18\n",
      "Learning Rate:  7.62939453125e-06\n"
     ]
    }
   ],
   "source": [
    "#calling batch gradient descent by giving the data and the result column name\n",
    "learned_weights, num_steps, learning_rate = batch_gradient_descent(train_data, 'output')\n",
    "print('Learned Weights:', learned_weights)\n",
    "print('Number of Steps: ', num_steps)\n",
    "print(\"Learning Rate: \", learning_rate)"
   ],
   "metadata": {
    "collapsed": false,
    "ExecuteTime": {
     "end_time": "2023-10-21T00:28:39.144467300Z",
     "start_time": "2023-10-21T00:28:38.845554400Z"
    }
   },
   "id": "6cd50b89fcc6c861"
  },
  {
   "cell_type": "code",
   "execution_count": 29,
   "outputs": [
    {
     "name": "stdout",
     "output_type": "stream",
     "text": [
      "Cost Test Data: 0.8674695544986697\n"
     ]
    }
   ],
   "source": [
    "Test_data = test_data.drop('output', axis=1).values\n",
    "final_weights = learned_weights \n",
    "\n",
    "# Calculate predictions on the test data\n",
    "y_pred_test = np.dot(Test_data, final_weights)\n",
    "\n",
    "Test_data_output = test_data['output'].values\n",
    "\n",
    "# Calculate the mean squared error (MSE) as the cost on the test data\n",
    "test_cost = np.mean((y_pred_test - Test_data_output) ** 2)\n",
    "\n",
    "print('Cost Test Data:', test_cost)\n"
   ],
   "metadata": {
    "collapsed": false,
    "ExecuteTime": {
     "end_time": "2023-10-21T00:28:40.143520Z",
     "start_time": "2023-10-21T00:28:40.112490600Z"
    }
   },
   "id": "aa117ac2e5cfb68e"
  },
  {
   "cell_type": "markdown",
   "source": [
    "## Stochastic gradient descent 4b"
   ],
   "metadata": {
    "collapsed": false,
    "ExecuteTime": {
     "end_time": "2023-10-19T16:05:21.640461700Z",
     "start_time": "2023-10-19T16:05:21.626189500Z"
    }
   },
   "id": "37c03c2ac14f1b4a"
  },
  {
   "cell_type": "code",
   "execution_count": 5,
   "outputs": [],
   "source": [
    "columns = ['Cement',\n",
    "           'Slag',\n",
    "           'Fly ash',\n",
    "           'Water',\n",
    "           'SP',\n",
    "           'Coarse Aggr',\n",
    "           'Fine Aggr',\n",
    "           'output']\n",
    "\n",
    "train_data = pd.read_csv('concrete/train.csv', names=columns, header=None)\n",
    "test_data = pd.read_csv('concrete/test.csv', names=columns, header=None)"
   ],
   "metadata": {
    "collapsed": false,
    "ExecuteTime": {
     "end_time": "2023-10-21T00:02:52.019358800Z",
     "start_time": "2023-10-21T00:02:51.990869300Z"
    }
   },
   "id": "2b52f69428ebacee"
  },
  {
   "cell_type": "code",
   "execution_count": 19,
   "outputs": [],
   "source": [
    "\n",
    "def stochastic_gradient_descent(data, result_variable, initial_learning_rate=0.1, tolerance=1e-6):\n",
    "\n",
    "    # Extract features and target variable for training\n",
    "    X_train = data.drop(result_variable, axis=1).values\n",
    "    y_train = data[result_variable].values\n",
    "\n",
    "\n",
    "    # Initialize weights\n",
    "    weights = np.zeros(X_train.shape[1])\n",
    "\n",
    "    # Store learning rates, cost function values, and the number of updates\n",
    "    learning_rates = []\n",
    "    costs = []\n",
    "    num_updates = 0\n",
    "\n",
    "    while True:\n",
    "        # Shuffle the training data for each interation until convergence\n",
    "        idx = np.random.permutation(len(X_train))\n",
    "        X_train_shuffled_random = X_train[idx]\n",
    "        y_train_shuffled_random = y_train[idx]\n",
    "\n",
    "        for i in range(len(X_train)):\n",
    "            \n",
    "            # Sample a random training example\n",
    "            xi = X_train_shuffled_random[i]\n",
    "            yi = y_train_shuffled_random[i]\n",
    "\n",
    "            #prediction and error\n",
    "            y_pred = np.dot(xi, weights)\n",
    "            error = y_pred - yi\n",
    "\n",
    "            #gradient for this example\n",
    "            gradient = xi * error\n",
    "\n",
    "            # Update weights\n",
    "            new_weights = weights - initial_learning_rate * gradient\n",
    "            weights = new_weights\n",
    "\n",
    "            # Calculate the cost\n",
    "            predictions = np.dot(X_train, weights)\n",
    "            errors = predictions - y_train\n",
    "            cost_train = np.mean(errors**2) / 2\n",
    "            costs.append(cost_train)\n",
    "            learning_rates.append(initial_learning_rate)\n",
    "            num_updates += 1\n",
    "\n",
    "            # Check for convergence\n",
    "            if len(costs) > 1 and np.abs(costs[-1] - costs[-2]) < tolerance:\n",
    "                # Plot cost vs. number of updates\n",
    "                plt.plot(range(num_updates), costs, marker='o')\n",
    "                plt.xlabel('Number of Updates')\n",
    "                #cost on training data\n",
    "                plt.ylabel('Cost')\n",
    "                plt.title('Cost vs. Number of Updates')\n",
    "                plt.grid(True)\n",
    "                plt.show()\n",
    "                return weights, initial_learning_rate, num_updates\n",
    "\n",
    "            # Decrease the learning rate\n",
    "            #print('learning Rate: ', initial_learning_rate)\n",
    "            initial_learning_rate *= 0.5\n",
    "\n",
    "\n",
    "    return weights, initial_learning_rate"
   ],
   "metadata": {
    "collapsed": false,
    "ExecuteTime": {
     "end_time": "2023-10-21T00:17:28.686602600Z",
     "start_time": "2023-10-21T00:17:28.676286Z"
    }
   },
   "id": "b00066ea3c3558b7"
  },
  {
   "cell_type": "code",
   "execution_count": 45,
   "outputs": [
    {
     "data": {
      "text/plain": "<Figure size 640x480 with 1 Axes>",
      "image/png": "[encoded data removed]"
     },
     "metadata": {},
     "output_type": "display_data"
    },
    {
     "name": "stdout",
     "output_type": "stream",
     "text": [
      "Learned Weights: [ 0.1794545  -0.2471264  -0.13259447  0.21027172  0.04001232  0.00053246\n",
      "  0.04343056]\n",
      "Learning Rate:  3.0517578125e-06\n",
      "Number of Updates 16\n"
     ]
    }
   ],
   "source": [
    "# calling the function\n",
    "learned_weights, learning_rate, num_updates = stochastic_gradient_descent(train_data, 'output')\n",
    "print('Learned Weights:', learned_weights)\n",
    "print('Learning Rate: ', learning_rate)\n",
    "print('Number of Updates', num_updates)"
   ],
   "metadata": {
    "collapsed": false,
    "ExecuteTime": {
     "end_time": "2023-10-21T01:15:20.422649100Z",
     "start_time": "2023-10-21T01:15:20.201283900Z"
    }
   },
   "id": "677ea931de2e73de"
  },
  {
   "cell_type": "code",
   "execution_count": 46,
   "outputs": [
    {
     "name": "stdout",
     "output_type": "stream",
     "text": [
      "Cost on Test Data: 0.8935920116136927\n"
     ]
    }
   ],
   "source": [
    "Test_data = test_data.drop('output', axis=1).values\n",
    "final_weights = learned_weights\n",
    "\n",
    "# Calculate predictions on the test data\n",
    "y_pred_test = np.dot(Test_data, final_weights)\n",
    "\n",
    "Test_data_output = test_data['output'].values\n",
    "\n",
    "# Calculate the mean squared error (MSE) as the cost on the test data\n",
    "test_cost = np.mean((y_pred_test - Test_data_output) ** 2)\n",
    "\n",
    "print('Cost on Test Data:', test_cost)"
   ],
   "metadata": {
    "collapsed": false,
    "ExecuteTime": {
     "end_time": "2023-10-21T01:15:22.610069700Z",
     "start_time": "2023-10-21T01:15:22.600544300Z"
    }
   },
   "id": "5f8027f8289feea2"
  },
  {
   "cell_type": "markdown",
   "source": [],
   "metadata": {
    "collapsed": false
   },
   "id": "ece328bf462d8484"
  },
  {
   "cell_type": "markdown",
   "source": [
    "# 4c"
   ],
   "metadata": {
    "collapsed": false
   },
   "id": "8022e328b42f0bf5"
  },
  {
   "cell_type": "code",
   "execution_count": 47,
   "outputs": [
    {
     "name": "stdout",
     "output_type": "stream",
     "text": [
      "Optimal Weight Vector: [0.92154947 0.80829428 0.87397433 1.3142877  0.13392374 1.59904727\n",
      " 1.02029192]\n"
     ]
    }
   ],
   "source": [
    "X_train = train_data.drop('output', axis=1).values\n",
    "y_train = train_data['output'].values\n",
    "\n",
    "w_optimal = np.linalg.inv(X_train.T.dot(X_train)).dot(X_train.T).dot(y_train)\n",
    "\n",
    "\n",
    "print('Optimal Weight Vector:', w_optimal)"
   ],
   "metadata": {
    "collapsed": false,
    "ExecuteTime": {
     "end_time": "2023-10-21T01:23:38.935568900Z",
     "start_time": "2023-10-21T01:23:38.905220700Z"
    }
   },
   "id": "340cc095de2ccf66"
  },
  {
   "cell_type": "code",
   "execution_count": null,
   "outputs": [],
   "source": [],
   "metadata": {
    "collapsed": false
   },
   "id": "e18efa967d5f91ff"
  }
 ],
 "metadata": {
  "kernelspec": {
   "display_name": "Python 3",
   "language": "python",
   "name": "python3"
  },
  "language_info": {
   "codemirror_mode": {
    "name": "ipython",
    "version": 2
   },
   "file_extension": ".py",
   "mimetype": "text/x-python",
   "name": "python",
   "nbconvert_exporter": "python",
   "pygments_lexer": "ipython2",
   "version": "2.7.6"
  }
 },
 "nbformat": 4,
 "nbformat_minor": 5
}
